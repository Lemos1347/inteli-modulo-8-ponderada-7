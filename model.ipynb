{
 "cells": [
  {
   "cell_type": "markdown",
   "metadata": {},
   "source": [
    "# Montagem do módelo"
   ]
  },
  {
   "cell_type": "markdown",
   "metadata": {},
   "source": [
    "## Importando bibliotecas\n",
    "\n",
    "Primeiro importe as bibliotecas necessárias para a montagem do modelo."
   ]
  },
  {
   "cell_type": "code",
   "execution_count": 2,
   "metadata": {},
   "outputs": [],
   "source": [
    "import tensorflow as tf\n",
    "from tensorflow.keras import datasets, layers, models\n",
    "import matplotlib.pyplot as plt\n",
    "import numpy as np"
   ]
  },
  {
   "cell_type": "markdown",
   "metadata": {},
   "source": [
    "## Carregue os dados\n",
    "\n",
    "O TensorFlow facilita a importação do MNIST, então apenas importamos de `datasets` e dividimos em conjuntos de treinamento e teste."
   ]
  },
  {
   "cell_type": "code",
   "execution_count": 3,
   "metadata": {},
   "outputs": [],
   "source": [
    "# Carregamento dos dados de treino e teste\n",
    "(train_images, train_labels), (test_images, test_labels) = datasets.mnist.load_data()\n",
    "\n",
    "# Normalizando os valores dos pixels para o intervalo 0-1\n",
    "train_images, test_images = train_images / 255.0, test_images / 255.0\n",
    "\n",
    "# Redimensionando as imagens\n",
    "train_images = train_images.reshape((60000, 28, 28, 1))\n",
    "test_images = test_images.reshape((10000, 28, 28, 1))"
   ]
  },
  {
   "cell_type": "markdown",
   "metadata": {},
   "source": [
    "## Construção do modelo\n",
    "\n",
    "Aqui definimos um modelo com as seguintes configurações:\n",
    "- **Camada Convolucional (Conv2D)**: para detectar as características das imagens.\n",
    "  - `32 filtros`: Cada filtro detecta características diferentes.\n",
    "  - `Tamanho do filtro (3x3)`: Área da imagem que cada filtro examina.\n",
    "  - `Função de Ativação 'ReLU'`: Introduz não-linearidade no modelo, transformando valores negativos em zero. \n",
    "\n",
    "- **Camada de Pooling**: Reduz a dimensionalidade espacial.\n",
    "  - `Pooling Máximo (2x2)`: Reduz a dimensão espacial pegando o valor máximo de um quadrado 2x2.\n",
    "\n",
    "- **Flatten**: Converte mapas de características 3D em um vetor 1D.\n",
    "\n",
    "- **Camadas Densas**: Realizam a classificação com base nas características detectadas.\n",
    "  - `64 neurônios`: Número de neurônios na camada oculta.\n",
    "  - `10 neurônios na camada de saída`: Corresponde aos 10 dígitos do MNIST."
   ]
  },
  {
   "cell_type": "code",
   "execution_count": 4,
   "metadata": {},
   "outputs": [],
   "source": [
    "model = models.Sequential()\n",
    "model.add(layers.Conv2D(32, (3, 3), activation='relu', input_shape=(28, 28, 1)))\n",
    "model.add(layers.MaxPooling2D((2, 2)))\n",
    "model.add(layers.Conv2D(64, (3, 3), activation='relu'))\n",
    "model.add(layers.MaxPooling2D((2, 2)))\n",
    "model.add(layers.Conv2D(64, (3, 3), activation='relu'))\n",
    "\n",
    "# Adicionando camadas densas no final\n",
    "model.add(layers.Flatten())\n",
    "model.add(layers.Dense(64, activation='relu'))\n",
    "model.add(layers.Dense(10))"
   ]
  },
  {
   "cell_type": "markdown",
   "metadata": {},
   "source": [
    "## Compilação do modelo\n",
    "\n",
    "Agora que o modelo está definido, precisamos configurar o processo de treinamento. Para isso primeiro compilamos o modelo com as seguintes configurações:\n",
    "\n",
    "- **Optimizer 'Adam'**: Ajusta os pesos da rede para minimizar o erro.\n",
    "- **Loss 'Sparse Categorical Crossentropy'**: Compara as previsões do modelo com os rótulos verdadeiros.\n",
    "- **Métrica 'Accuracy'**: Avalia a porcentagem de previsões corretas."
   ]
  },
  {
   "cell_type": "code",
   "execution_count": 5,
   "metadata": {},
   "outputs": [],
   "source": [
    "model.compile(optimizer='adam',\n",
    "              loss=tf.keras.losses.SparseCategoricalCrossentropy(from_logits=True),\n",
    "              metrics=['accuracy'])"
   ]
  },
  {
   "cell_type": "markdown",
   "metadata": {},
   "source": [
    "## Treinamento do modelo\n",
    "\n",
    "Agora treinamos o modelo com os dados de treinamento com 3 épocas e validamos com os dados de teste. "
   ]
  },
  {
   "cell_type": "code",
   "execution_count": 6,
   "metadata": {},
   "outputs": [
    {
     "name": "stdout",
     "output_type": "stream",
     "text": [
      "Epoch 1/3\n",
      "1875/1875 [==============================] - 17s 9ms/step - loss: 0.1461 - accuracy: 0.9558 - val_loss: 0.0508 - val_accuracy: 0.9840\n",
      "Epoch 2/3\n",
      "1875/1875 [==============================] - 17s 9ms/step - loss: 0.0466 - accuracy: 0.9856 - val_loss: 0.0314 - val_accuracy: 0.9896\n",
      "Epoch 3/3\n",
      "1875/1875 [==============================] - 17s 9ms/step - loss: 0.0330 - accuracy: 0.9898 - val_loss: 0.0291 - val_accuracy: 0.9922\n"
     ]
    },
    {
     "data": {
      "text/plain": [
       "<keras.src.callbacks.History at 0x15ec9f0a0>"
      ]
     },
     "execution_count": 6,
     "metadata": {},
     "output_type": "execute_result"
    }
   ],
   "source": [
    "model.fit(train_images, train_labels, epochs=3, validation_data=(test_images, test_labels))"
   ]
  },
  {
   "cell_type": "markdown",
   "metadata": {},
   "source": [
    "## Avaliação do modelo\n",
    "\n",
    "Por fim, avaliamos o modelo com os dados de teste e imprimimos a acurácia."
   ]
  },
  {
   "cell_type": "code",
   "execution_count": 7,
   "metadata": {},
   "outputs": [
    {
     "name": "stdout",
     "output_type": "stream",
     "text": [
      "313/313 - 1s - loss: 0.0291 - accuracy: 0.9922 - 917ms/epoch - 3ms/step\n",
      "\n",
      "Test accuracy: 0.9922000169754028\n"
     ]
    }
   ],
   "source": [
    "test_loss, test_acc = model.evaluate(test_images,  test_labels, verbose=2)\n",
    "print('\\nTest accuracy:', test_acc)"
   ]
  },
  {
   "cell_type": "markdown",
   "metadata": {},
   "source": [
    "# Teste do modelo"
   ]
  },
  {
   "cell_type": "markdown",
   "metadata": {},
   "source": [
    "## Script\n",
    "\n",
    "Agora que o modelo está treinado, podemos testá-lo com uma imagem de um dígito escrito à mão. Para isso, primeiro importamos a imagem e a convertemos para um array de 28x28. Depois, usamos o modelo para prever o dígito e imprimimos o resultado."
   ]
  },
  {
   "cell_type": "code",
   "execution_count": 1,
   "metadata": {},
   "outputs": [],
   "source": [
    "import cv2"
   ]
  },
  {
   "cell_type": "code",
   "execution_count": 8,
   "metadata": {},
   "outputs": [],
   "source": [
    "# Caminho da imagem\n",
    "imagem_caminho = './numero_a_mao.jpg'"
   ]
  },
  {
   "cell_type": "code",
   "execution_count": 9,
   "metadata": {},
   "outputs": [],
   "source": [
    "# Carregamento e formatação da imagem\n",
    "img = cv2.imread(imagem_caminho, cv2.IMREAD_GRAYSCALE)\n",
    "img = cv2.resize(img, (28, 28))\n",
    "\n",
    "img = img / 255.0\n",
    "\n",
    "img = np.expand_dims(img, axis=[0, -1])"
   ]
  },
  {
   "cell_type": "code",
   "execution_count": 22,
   "metadata": {},
   "outputs": [
    {
     "name": "stdout",
     "output_type": "stream",
     "text": [
      "1/1 [==============================] - 0s 15ms/step\n"
     ]
    },
    {
     "data": {
      "text/plain": [
       "'Número previsto: 8'"
      ]
     },
     "execution_count": 22,
     "metadata": {},
     "output_type": "execute_result"
    }
   ],
   "source": [
    "# Prevendo a imagem\n",
    "previsao = model.predict(img)\n",
    "\n",
    "previsao_label = np.argmax(previsao, axis=1)\n",
    "\n",
    "print(f\"Número previsto: {previsao_label[0]}\")"
   ]
  }
 ],
 "metadata": {
  "kernelspec": {
   "display_name": ".venv",
   "language": "python",
   "name": "python3"
  },
  "language_info": {
   "codemirror_mode": {
    "name": "ipython",
    "version": 3
   },
   "file_extension": ".py",
   "mimetype": "text/x-python",
   "name": "python",
   "nbconvert_exporter": "python",
   "pygments_lexer": "ipython3",
   "version": "3.10.13"
  }
 },
 "nbformat": 4,
 "nbformat_minor": 2
}
